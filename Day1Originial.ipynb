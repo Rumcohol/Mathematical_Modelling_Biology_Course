{
  "nbformat": 4,
  "nbformat_minor": 0,
  "metadata": {
    "colab": {
      "provenance": []
    },
    "kernelspec": {
      "name": "python3",
      "display_name": "Python 3"
    },
    "language_info": {
      "name": "python"
    },
    "widgets": {
      "application/vnd.jupyter.widget-state+json": {
        "9854817b71d546298f7143975bb67a43": {
          "model_module": "@jupyter-widgets/controls",
          "model_name": "VBoxModel",
          "model_module_version": "1.5.0",
          "state": {
            "_dom_classes": [
              "widget-interact"
            ],
            "_model_module": "@jupyter-widgets/controls",
            "_model_module_version": "1.5.0",
            "_model_name": "VBoxModel",
            "_view_count": null,
            "_view_module": "@jupyter-widgets/controls",
            "_view_module_version": "1.5.0",
            "_view_name": "VBoxView",
            "box_style": "",
            "children": [
              "IPY_MODEL_67e43c2463ba4fcd8debf91b506d8450",
              "IPY_MODEL_fa1f1a81c5a243c5a8cb50d032697e79",
              "IPY_MODEL_5751c2f0413646a5a26987ba05a6825c"
            ],
            "layout": "IPY_MODEL_e3aed370deb84a1aa12a17a920761225"
          }
        },
        "67e43c2463ba4fcd8debf91b506d8450": {
          "model_module": "@jupyter-widgets/controls",
          "model_name": "FloatSliderModel",
          "model_module_version": "1.5.0",
          "state": {
            "_dom_classes": [],
            "_model_module": "@jupyter-widgets/controls",
            "_model_module_version": "1.5.0",
            "_model_name": "FloatSliderModel",
            "_view_count": null,
            "_view_module": "@jupyter-widgets/controls",
            "_view_module_version": "1.5.0",
            "_view_name": "FloatSliderView",
            "continuous_update": true,
            "description": "r",
            "description_tooltip": null,
            "disabled": false,
            "layout": "IPY_MODEL_e75558872cf94cf78da65816014f0c01",
            "max": 10,
            "min": 0.1,
            "orientation": "horizontal",
            "readout": true,
            "readout_format": ".2f",
            "step": 0.1,
            "style": "IPY_MODEL_2e352bfb11084a6e9173f171f05546ce",
            "value": 2
          }
        },
        "fa1f1a81c5a243c5a8cb50d032697e79": {
          "model_module": "@jupyter-widgets/controls",
          "model_name": "FloatSliderModel",
          "model_module_version": "1.5.0",
          "state": {
            "_dom_classes": [],
            "_model_module": "@jupyter-widgets/controls",
            "_model_module_version": "1.5.0",
            "_model_name": "FloatSliderModel",
            "_view_count": null,
            "_view_module": "@jupyter-widgets/controls",
            "_view_module_version": "1.5.0",
            "_view_name": "FloatSliderView",
            "continuous_update": true,
            "description": "K",
            "description_tooltip": null,
            "disabled": false,
            "layout": "IPY_MODEL_a09769afdb9f4ee0bf0c6f89b66aca68",
            "max": 1000,
            "min": 100,
            "orientation": "horizontal",
            "readout": true,
            "readout_format": ".2f",
            "step": 10,
            "style": "IPY_MODEL_0e5b3ba354b14b6cb8f4710d4c33e596",
            "value": 800
          }
        },
        "5751c2f0413646a5a26987ba05a6825c": {
          "model_module": "@jupyter-widgets/output",
          "model_name": "OutputModel",
          "model_module_version": "1.0.0",
          "state": {
            "_dom_classes": [],
            "_model_module": "@jupyter-widgets/output",
            "_model_module_version": "1.0.0",
            "_model_name": "OutputModel",
            "_view_count": null,
            "_view_module": "@jupyter-widgets/output",
            "_view_module_version": "1.0.0",
            "_view_name": "OutputView",
            "layout": "IPY_MODEL_08a224a3087a40679f7bbf2325d919c8",
            "msg_id": "",
            "outputs": [
              {
                "output_type": "display_data",
                "data": {
                  "text/plain": "<Figure size 432x288 with 1 Axes>",
                  "image/png": "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\n"
                },
                "metadata": {
                  "needs_background": "light"
                }
              }
            ]
          }
        },
        "e3aed370deb84a1aa12a17a920761225": {
          "model_module": "@jupyter-widgets/base",
          "model_name": "LayoutModel",
          "model_module_version": "1.2.0",
          "state": {
            "_model_module": "@jupyter-widgets/base",
            "_model_module_version": "1.2.0",
            "_model_name": "LayoutModel",
            "_view_count": null,
            "_view_module": "@jupyter-widgets/base",
            "_view_module_version": "1.2.0",
            "_view_name": "LayoutView",
            "align_content": null,
            "align_items": null,
            "align_self": null,
            "border": null,
            "bottom": null,
            "display": null,
            "flex": null,
            "flex_flow": null,
            "grid_area": null,
            "grid_auto_columns": null,
            "grid_auto_flow": null,
            "grid_auto_rows": null,
            "grid_column": null,
            "grid_gap": null,
            "grid_row": null,
            "grid_template_areas": null,
            "grid_template_columns": null,
            "grid_template_rows": null,
            "height": null,
            "justify_content": null,
            "justify_items": null,
            "left": null,
            "margin": null,
            "max_height": null,
            "max_width": null,
            "min_height": null,
            "min_width": null,
            "object_fit": null,
            "object_position": null,
            "order": null,
            "overflow": null,
            "overflow_x": null,
            "overflow_y": null,
            "padding": null,
            "right": null,
            "top": null,
            "visibility": null,
            "width": null
          }
        },
        "e75558872cf94cf78da65816014f0c01": {
          "model_module": "@jupyter-widgets/base",
          "model_name": "LayoutModel",
          "model_module_version": "1.2.0",
          "state": {
            "_model_module": "@jupyter-widgets/base",
            "_model_module_version": "1.2.0",
            "_model_name": "LayoutModel",
            "_view_count": null,
            "_view_module": "@jupyter-widgets/base",
            "_view_module_version": "1.2.0",
            "_view_name": "LayoutView",
            "align_content": null,
            "align_items": null,
            "align_self": null,
            "border": null,
            "bottom": null,
            "display": null,
            "flex": null,
            "flex_flow": null,
            "grid_area": null,
            "grid_auto_columns": null,
            "grid_auto_flow": null,
            "grid_auto_rows": null,
            "grid_column": null,
            "grid_gap": null,
            "grid_row": null,
            "grid_template_areas": null,
            "grid_template_columns": null,
            "grid_template_rows": null,
            "height": null,
            "justify_content": null,
            "justify_items": null,
            "left": null,
            "margin": null,
            "max_height": null,
            "max_width": null,
            "min_height": null,
            "min_width": null,
            "object_fit": null,
            "object_position": null,
            "order": null,
            "overflow": null,
            "overflow_x": null,
            "overflow_y": null,
            "padding": null,
            "right": null,
            "top": null,
            "visibility": null,
            "width": null
          }
        },
        "2e352bfb11084a6e9173f171f05546ce": {
          "model_module": "@jupyter-widgets/controls",
          "model_name": "SliderStyleModel",
          "model_module_version": "1.5.0",
          "state": {
            "_model_module": "@jupyter-widgets/controls",
            "_model_module_version": "1.5.0",
            "_model_name": "SliderStyleModel",
            "_view_count": null,
            "_view_module": "@jupyter-widgets/base",
            "_view_module_version": "1.2.0",
            "_view_name": "StyleView",
            "description_width": "",
            "handle_color": null
          }
        },
        "a09769afdb9f4ee0bf0c6f89b66aca68": {
          "model_module": "@jupyter-widgets/base",
          "model_name": "LayoutModel",
          "model_module_version": "1.2.0",
          "state": {
            "_model_module": "@jupyter-widgets/base",
            "_model_module_version": "1.2.0",
            "_model_name": "LayoutModel",
            "_view_count": null,
            "_view_module": "@jupyter-widgets/base",
            "_view_module_version": "1.2.0",
            "_view_name": "LayoutView",
            "align_content": null,
            "align_items": null,
            "align_self": null,
            "border": null,
            "bottom": null,
            "display": null,
            "flex": null,
            "flex_flow": null,
            "grid_area": null,
            "grid_auto_columns": null,
            "grid_auto_flow": null,
            "grid_auto_rows": null,
            "grid_column": null,
            "grid_gap": null,
            "grid_row": null,
            "grid_template_areas": null,
            "grid_template_columns": null,
            "grid_template_rows": null,
            "height": null,
            "justify_content": null,
            "justify_items": null,
            "left": null,
            "margin": null,
            "max_height": null,
            "max_width": null,
            "min_height": null,
            "min_width": null,
            "object_fit": null,
            "object_position": null,
            "order": null,
            "overflow": null,
            "overflow_x": null,
            "overflow_y": null,
            "padding": null,
            "right": null,
            "top": null,
            "visibility": null,
            "width": null
          }
        },
        "0e5b3ba354b14b6cb8f4710d4c33e596": {
          "model_module": "@jupyter-widgets/controls",
          "model_name": "SliderStyleModel",
          "model_module_version": "1.5.0",
          "state": {
            "_model_module": "@jupyter-widgets/controls",
            "_model_module_version": "1.5.0",
            "_model_name": "SliderStyleModel",
            "_view_count": null,
            "_view_module": "@jupyter-widgets/base",
            "_view_module_version": "1.2.0",
            "_view_name": "StyleView",
            "description_width": "",
            "handle_color": null
          }
        },
        "08a224a3087a40679f7bbf2325d919c8": {
          "model_module": "@jupyter-widgets/base",
          "model_name": "LayoutModel",
          "model_module_version": "1.2.0",
          "state": {
            "_model_module": "@jupyter-widgets/base",
            "_model_module_version": "1.2.0",
            "_model_name": "LayoutModel",
            "_view_count": null,
            "_view_module": "@jupyter-widgets/base",
            "_view_module_version": "1.2.0",
            "_view_name": "LayoutView",
            "align_content": null,
            "align_items": null,
            "align_self": null,
            "border": null,
            "bottom": null,
            "display": null,
            "flex": null,
            "flex_flow": null,
            "grid_area": null,
            "grid_auto_columns": null,
            "grid_auto_flow": null,
            "grid_auto_rows": null,
            "grid_column": null,
            "grid_gap": null,
            "grid_row": null,
            "grid_template_areas": null,
            "grid_template_columns": null,
            "grid_template_rows": null,
            "height": null,
            "justify_content": null,
            "justify_items": null,
            "left": null,
            "margin": null,
            "max_height": null,
            "max_width": null,
            "min_height": null,
            "min_width": null,
            "object_fit": null,
            "object_position": null,
            "order": null,
            "overflow": null,
            "overflow_x": null,
            "overflow_y": null,
            "padding": null,
            "right": null,
            "top": null,
            "visibility": null,
            "width": null
          }
        }
      }
    }
  },
  "cells": [
    {
      "cell_type": "code",
      "execution_count": null,
      "metadata": {
        "id": "IpvRb1B_lpL8"
      },
      "outputs": [],
      "source": []
    },
    {
      "cell_type": "markdown",
      "source": [
        "# Introduction to Mathematical Modelling in Biology: Day 1\n",
        "#### Rupesh Mahore , IISc Bangalore\n",
        "\n",
        "## Part 1: Introduction to Python\n",
        "\n",
        "\n",
        "\n"
      ],
      "metadata": {
        "id": "MgLj3RtOnKiq"
      }
    },
    {
      "cell_type": "markdown",
      "source": [
        "\n",
        "### Basic Syntax\n",
        "\n",
        "Let's start by learning some basic syntax in Python.\n",
        "\n",
        "#### Variables\n",
        "\n",
        "In Python, you can assign values to variables using the \"=\" operator. For example:\n",
        "\n"
      ],
      "metadata": {
        "id": "TJ1SmiPJsU3K"
      }
    },
    {
      "cell_type": "code",
      "source": [
        "x = 5\n",
        "y = \"Hello, world!\"\n",
        "print(x)\n",
        "print(y)\n"
      ],
      "metadata": {
        "colab": {
          "base_uri": "https://localhost:8080/"
        },
        "id": "1BllztGOsocc",
        "outputId": "f427731e-41cf-4341-f41a-15e60bbdff5f"
      },
      "execution_count": null,
      "outputs": [
        {
          "output_type": "stream",
          "name": "stdout",
          "text": [
            "5\n",
            "Hello, world!\n"
          ]
        }
      ]
    },
    {
      "cell_type": "markdown",
      "source": [
        "**Operators**\n",
        "\n",
        "Operators can be classified into different categories based on their functionality. Some of the common categories of operators in Python include:\n",
        "\n",
        "1. Arithmetic operators: These operators are used to perform arithmetic operations on numeric values. Examples of arithmetic operators in Python include +, -, *, /, % (modulus), and // (floor division).\n",
        "\n",
        "2. Comparison operators: These operators are used to compare two values and return a Boolean value (True or False). Examples of comparison operators in Python include == (equal to), != (not equal to), > (greater than), < (less than), >= (greater than or equal to), and <= (less than or equal to).\n",
        "\n",
        "3. Logical operators: These operators are used to perform logical operations on Boolean values. Examples of logical operators in Python include and, or, and not.\n",
        "\n",
        "4. Assignment operators: These operators are used to assign a value to a variable. Examples of assignment operators in Python include =, +=, -=, *=, /=, and %=.\n",
        "\n",
        "5. Bitwise operators: These operators are used to perform bitwise operations on binary values. Examples of bitwise operators in Python include &, |, ^, ~, << (left shift), and >> (right shift).\n",
        "\n",
        "**Arithmetic operators**\n",
        "\n"
      ],
      "metadata": {
        "id": "pY5-ClYRsvV_"
      }
    },
    {
      "cell_type": "code",
      "source": [
        "a = 10\n",
        "b = 5\n",
        "\n",
        "print(a + b)  # Output: 15\n",
        "print(a - b)  # Output: 5\n",
        "print(a * b)  # Output: 50\n",
        "print(a / b)  # Output: 2.0\n",
        "print(a % b)  # Output: 0\n",
        "print(a // b) # Output: 2\n"
      ],
      "metadata": {
        "id": "spReu7U3OocX"
      },
      "execution_count": null,
      "outputs": []
    },
    {
      "cell_type": "markdown",
      "source": [
        "**Comparison operators:**"
      ],
      "metadata": {
        "id": "i0Juv9VbOpjy"
      }
    },
    {
      "cell_type": "code",
      "source": [
        "a = 10\n",
        "b = 5\n",
        "\n",
        "print(a == b)  # Output: False\n",
        "print(a != b)  # Output: True\n",
        "print(a > b)   # Output: True\n",
        "print(a < b)   # Output: False\n",
        "print(a >= b)  # Output: True\n",
        "print(a <= b)  # Output: False\n"
      ],
      "metadata": {
        "id": "o1AmvI_JOqLV"
      },
      "execution_count": null,
      "outputs": []
    },
    {
      "cell_type": "markdown",
      "source": [
        "**Logical operators:**"
      ],
      "metadata": {
        "id": "ioI2emC6OquY"
      }
    },
    {
      "cell_type": "code",
      "source": [
        "a = True\n",
        "b = False\n",
        "\n",
        "print(a and b)  # Output: False\n",
        "print(a or b)   # Output: True\n",
        "print(not a)    # Output: False\n"
      ],
      "metadata": {
        "id": "MyAtfrqjOrKK"
      },
      "execution_count": null,
      "outputs": []
    },
    {
      "cell_type": "markdown",
      "source": [
        "**Assignment operators:**"
      ],
      "metadata": {
        "id": "mW9R3DwpOs0w"
      }
    },
    {
      "cell_type": "code",
      "source": [
        "a = 10\n",
        "\n",
        "a += 5\n",
        "print(a)  # Output: 15\n",
        "\n",
        "a -= 2\n",
        "print(a)  # Output: 13\n",
        "\n",
        "a *= 2\n",
        "print(a)  # Output: 26\n",
        "\n",
        "a^2= a**2\n",
        "\n",
        "a /= 3\n",
        "print(a)  # Output: 8.666666666666666\n",
        "\n",
        "a %= 2\n",
        "print(a)  # Output: 0.6666666666666667\n"
      ],
      "metadata": {
        "id": "ARsYe754Ot1_"
      },
      "execution_count": null,
      "outputs": []
    },
    {
      "cell_type": "markdown",
      "source": [
        "**Bitwise operators:**"
      ],
      "metadata": {
        "id": "LUV1kxRFPpLV"
      }
    },
    {
      "cell_type": "code",
      "source": [
        "a = 10  # Binary value: 1010\n",
        "b = 3   # Binary value: 0011\n",
        "\n",
        "print(a & b)   # Output: 2 (Binary value: 0010)\n",
        "print(a | b)   # Output: 11 (Binary value: 1011)\n",
        "print(a ^ b)   # Output: 9 (Binary value: 1001)\n",
        "print(~a)      # Output: -11 (Binary value: 11110101)\n",
        "print(a << 1)  # Output: 20 (Binary value: 10100)\n",
        "print(a >> 1)  # Output: 5 (Binary value: 0101)\n"
      ],
      "metadata": {
        "id": "hF1DTZFAtEd7"
      },
      "execution_count": null,
      "outputs": []
    },
    {
      "cell_type": "markdown",
      "source": [
        "# Data Types\n",
        "\n",
        "Python supports various types of data, such as integers, floats, strings, booleans, and lists. Here are some examples:\n",
        "\n"
      ],
      "metadata": {
        "id": "J5bxIEMntFHb"
      }
    },
    {
      "cell_type": "markdown",
      "source": [
        "# Integers and floats\n",
        "\n",
        "x = 5\n",
        "\n",
        "y = 5.0\n",
        "\n",
        "# Strings\n",
        "\n",
        "x = \"Hello, world!\"\n",
        "\n",
        "y = 'Hello, world!'\n",
        "\n",
        "# Booleans\n",
        "\n",
        "x = True\n",
        "\n",
        "y = False\n",
        "\n",
        "# Lists\n",
        "\n",
        "x = [1, 2, 3]\n",
        "\n",
        "y = [\"apple\", \"banana\", \"cherry\"]"
      ],
      "metadata": {
        "id": "UXtC9CQftOeg"
      }
    },
    {
      "cell_type": "markdown",
      "source": [
        "# Functions\n",
        "\n",
        "In Python, a function is a reusable block of code that performs a specific task. Functions allow you to break up your code into smaller, more manageable pieces, and make your code more modular, readable, and easier to maintain.\n",
        "\n",
        "\n",
        "Functions take in input(s), perform some operations on the input(s), and then return an output. In Python, you define a function using the def keyword followed by the function name, input parameter(s) enclosed in parentheses, and a colon. The code block that makes up the function body is indented below the function definition.\n",
        "\n",
        "For example, here is a simple function that takes in two numbers and returns their sum:\n",
        "\n",
        "\n",
        "You to define functions using the **\"def\"**   keyword. For example:\n",
        "# Sum\n",
        "\n"
      ],
      "metadata": {
        "id": "Y48bViVXtdup"
      }
    },
    {
      "cell_type": "code",
      "source": [
        "def add_numbers(x, y):\n",
        "  z = x + y\n",
        "  return z\n",
        "\n",
        "#To use the function, you simply call it and pass in the input arguments:\n",
        "\n",
        "\n",
        "p=add_numbers(2,5)\n",
        "print(p)"
      ],
      "metadata": {
        "id": "6SyrMYaltiAT",
        "colab": {
          "base_uri": "https://localhost:8080/"
        },
        "outputId": "1a6703e4-2bb4-457e-966e-82fa2e260ca6"
      },
      "execution_count": null,
      "outputs": [
        {
          "output_type": "stream",
          "name": "stdout",
          "text": [
            "7\n"
          ]
        }
      ]
    },
    {
      "cell_type": "code",
      "source": [
        "def add_numbers(x, y):\n",
        "  z = x + y\n",
        "  return z\n",
        "\n",
        "#To use the function, you simply call it and pass in the input arguments:\n",
        "\n",
        "\n",
        "p=add_numbers(2,5)\n",
        "print(p)"
      ],
      "metadata": {
        "id": "6yYCijSr0RD3"
      },
      "execution_count": null,
      "outputs": []
    },
    {
      "cell_type": "markdown",
      "source": [
        "# Area of circle"
      ],
      "metadata": {
        "id": "YMAh6hwYSZu_"
      }
    },
    {
      "cell_type": "code",
      "source": [
        "def calculate_circle_area(radius):\n",
        "    pi = 3.14159\n",
        "    area = pi * (radius ** 2)\n",
        "    return area\n",
        "\n",
        "   \n",
        "    #To use this function, we can call it with the radius of a circle as the input argument:\n",
        "area = calculate_circle_area(5)\n",
        "print(area) # Output: 78.53975\n"
      ],
      "metadata": {
        "id": "v9y2SKO_Sa9E",
        "colab": {
          "base_uri": "https://localhost:8080/"
        },
        "outputId": "256b89de-bc98-4830-c959-156d7a32ec5e"
      },
      "execution_count": null,
      "outputs": [
        {
          "output_type": "stream",
          "name": "stdout",
          "text": [
            "78.53975\n"
          ]
        }
      ]
    },
    {
      "cell_type": "markdown",
      "source": [
        "In this example, the calculate_circle_area function takes in one input parameter radius, calculates the area of a circle using the formula $pi * (radius ** 2)$ , and returns the result. When we call the function with an argument of 5, it calculates the area of a circle with a radius of 5 and returns the value 78.53975, which we then store in the area variable and print to the console."
      ],
      "metadata": {
        "id": "n6rVIuFwScH4"
      }
    },
    {
      "cell_type": "markdown",
      "source": [
        "# Say Hello"
      ],
      "metadata": {
        "id": "MI9TKqZ0Uqgt"
      }
    },
    {
      "cell_type": "code",
      "source": [
        "def say_hello(name):\n",
        "    print(f\"Hello, {name}! How are you today?\")\n",
        "\n",
        "#To use this function, we can call it with a name as the input argument:\n",
        "\n",
        "say_hello(\"John\") # Output: Hello, John! How are you today?\n",
        "\n",
        "\n"
      ],
      "metadata": {
        "id": "_lc9YO7MUruN",
        "colab": {
          "base_uri": "https://localhost:8080/"
        },
        "outputId": "9075e028-b680-4b20-b438-5f72e66149f8"
      },
      "execution_count": null,
      "outputs": [
        {
          "output_type": "stream",
          "name": "stdout",
          "text": [
            "Hello, John! How are you today?\n"
          ]
        }
      ]
    },
    {
      "cell_type": "markdown",
      "source": [
        "In this example, the say_hello function takes in one input parameter name, formats a greeting message using the f-string syntax, and prints the message to the console. When we call the function with an argument of \"John\", it prints the message \"Hello, John! How are you today?\" to the console."
      ],
      "metadata": {
        "id": "AaY6iCJlWCRt"
      }
    },
    {
      "cell_type": "markdown",
      "source": [
        "# Exercise : Create a function which find area of rectangle."
      ],
      "metadata": {
        "id": "kJKIt3jpWlsj"
      }
    },
    {
      "cell_type": "markdown",
      "source": [
        "# Control Flow Statements\n",
        "\n",
        "\n",
        "Control flow statements are a way to control the order in which statements in a Python program are executed.\n",
        "\n",
        "There are three main types of control flow statements in Python:\n",
        "\n",
        "1. Conditional Statements: These are used to execute certain blocks of code only if a particular condition is true. The most commonly used conditional statement is the if statement.\n",
        "\n",
        "2. Looping Statements: These are used to execute a block of code repeatedly. The two most commonly used looping statements are the for loop and the while loop.\n",
        "\n",
        "3. Jump Statements: These are used to transfer control to another part of the program. The two most commonly used jump statements are break and continue.\n",
        "\n",
        "Using these statements, you can create programs that perform different actions based on certain conditions, execute code repeatedly, and control the flow of your program based on certain conditions.\n",
        "\n",
        "\n",
        "\n",
        "Python supports various types of control flow statements, such as **if-else** statements, **for loops**, and **while loops**. Here are some examples:\n",
        "\n"
      ],
      "metadata": {
        "id": "qEvE3KIktqS0"
      }
    },
    {
      "cell_type": "code",
      "source": [
        "#If-else statements\n",
        "x = 5\n",
        "if x > 0:\n",
        "  print(\"Positive\")\n",
        "  else:\n",
        "    print(\"Negative\")\n",
        "\n",
        "\n",
        "\n",
        "#For loops\n",
        "for i in range(10):\n",
        "  print(i)\n",
        "\n",
        "#While loops\n",
        "x = 0\n",
        "while x < 10:\n",
        "  print(x)\n",
        "  x += 1"
      ],
      "metadata": {
        "id": "Ah0Mz5LWtpxL"
      },
      "execution_count": null,
      "outputs": []
    },
    {
      "cell_type": "markdown",
      "source": [
        "\n",
        "#NumPy and Matplotlib Libraries\n",
        "\n",
        "NumPy and Matplotlib are two essential libraries for scientific computing and data visualization in Python.\n",
        "\n",
        "#NumPy\n",
        "\n",
        "NumPy provides a powerful array computing capability, which allows you to perform mathematical operations on entire arrays of data. Here are some examples:\n",
        "\n"
      ],
      "metadata": {
        "id": "AYkYdCZTuHLm"
      }
    },
    {
      "cell_type": "code",
      "source": [
        "#list vs array \n",
        "import numpy as np\n",
        "\n",
        "#Create an array\n",
        "x = np.array([1, 2, 3, 4, 5])\n",
        "\n",
        "#Perform mathematical operations\n",
        "y = np.sin(x)\n",
        "z = np.exp(x)\n",
        "\n",
        "#Reshape an array\n",
        "x = np.array([1, 2, 3, 4, 5, 6])\n",
        "y = x.reshape((2, 3))\n",
        "\n",
        "#add more examples of np "
      ],
      "metadata": {
        "id": "M3N5sRnNvyJs"
      },
      "execution_count": null,
      "outputs": []
    },
    {
      "cell_type": "markdown",
      "source": [
        "# Matplotlib\n",
        "\n",
        "Matplotlib provides a comprehensive set of tools for creating various types of plots and visualizations. Here are some examples:\n",
        "\n"
      ],
      "metadata": {
        "id": "LMSOLbo1vl4W"
      }
    },
    {
      "cell_type": "code",
      "source": [
        "import matplotlib.pyplot as plt\n",
        "\n",
        "#Create a line plot\n",
        "x = np.linspace(0, 2*np.pi, 100)\n",
        "y = np.sin(x)\n",
        "plt.plot(x, y)\n",
        "plt.show()\n",
        "\n",
        "#Create a scatter\n",
        "x = np.linspace(0, 2*np.pi, 100)\n",
        "y = np.sin(x)\n",
        "plt.scatter(x, y)\n",
        "plt.show()\n",
        "\n",
        "#phase space and time series"
      ],
      "metadata": {
        "id": "dDXMhL4gwCb_"
      },
      "execution_count": null,
      "outputs": []
    },
    {
      "cell_type": "markdown",
      "source": [
        "#Tasks\n",
        "\n",
        "Write a Python function that takes in two integers as input and returns their sum."
      ],
      "metadata": {
        "id": "UnWyt7Ivsdz7"
      }
    },
    {
      "cell_type": "code",
      "source": [
        "\n",
        "def add_numbers(a, b):\n",
        "    return a + b"
      ],
      "metadata": {
        "id": "4e38vh9AnRev"
      },
      "execution_count": null,
      "outputs": []
    },
    {
      "cell_type": "markdown",
      "source": [
        "#Excercise 1.1 : \n",
        "Create a Python list called \"numbers\" that contains the numbers 1 through 10.\n",
        "\n"
      ],
      "metadata": {
        "id": "mLNQxDUYoOtS"
      }
    },
    {
      "cell_type": "code",
      "source": [
        "numbers = [1, 2, 3, 4, 5, 6, 7, 8, 9, 10]"
      ],
      "metadata": {
        "id": "KVSybZL3oaEU"
      },
      "execution_count": null,
      "outputs": []
    },
    {
      "cell_type": "markdown",
      "source": [
        "#Exercise 1.2\n",
        "Create a function called calculate_mean that takes a list of numbers as input and returns the mean of the numbers."
      ],
      "metadata": {
        "id": "S1vxsaQ-obPo"
      }
    },
    {
      "cell_type": "code",
      "source": [
        "def calculate_mean(numbers):\n",
        "    return sum(numbers)/len(numbers)\n"
      ],
      "metadata": {
        "id": "y7se4OsDogUw"
      },
      "execution_count": null,
      "outputs": []
    },
    {
      "cell_type": "markdown",
      "source": [
        "#Exercise 1.3 \n",
        "Create a NumPy array called x that contains the values -10 through 10 in increments of 0.1."
      ],
      "metadata": {
        "id": "rtSU6DU1o-DT"
      }
    },
    {
      "cell_type": "code",
      "source": [
        "import numpy as np\n",
        "\n",
        "x = np.arange(-10, 10.1, 0.1)\n"
      ],
      "metadata": {
        "id": "3vAurj8mpZvr"
      },
      "execution_count": null,
      "outputs": []
    },
    {
      "cell_type": "markdown",
      "source": [
        "#Exercise 1.4\n",
        "Create a function called **sigmoid** that takes a NumPy array x and two parameters a and b, and returns the sigmoid function\n",
        "\n",
        " $1/(1 + exp(-a*(x - b)))$"
      ],
      "metadata": {
        "id": "nXWHkXcUphP6"
      }
    },
    {
      "cell_type": "code",
      "source": [
        "def sigmoid(x, a, b):\n",
        "    return 1/(1 + np.exp(-a*(x - b)))\n"
      ],
      "metadata": {
        "id": "G9zrI4fbpocI"
      },
      "execution_count": null,
      "outputs": []
    },
    {
      "cell_type": "markdown",
      "source": [
        "#Exercise 1.4\n",
        "Write a Python script that generates a random integer between 1 and 10, prints it to the console, and then checks if it is greater than 5. If it is, print \"The number is greater than 5\" to the console. If not, print \"The number is less than or equal to 5\" to the console."
      ],
      "metadata": {
        "id": "om4UfvnPmbaB"
      }
    },
    {
      "cell_type": "code",
      "source": [
        "import random\n",
        "\n",
        "x = random.randint(1, 10)\n",
        "print(\"Random number:\", x)\n",
        "\n",
        "if x > 5:\n",
        "    print(\"The number is greater than 5\")\n",
        "else:\n",
        "    print(\"The number is less than or equal to 5\")\n"
      ],
      "metadata": {
        "id": "UZcLrSOBmdZq"
      },
      "execution_count": null,
      "outputs": []
    },
    {
      "cell_type": "markdown",
      "source": [
        "#Population models: Introduction\n",
        "In this section, we will explore some classic population models in biology and simulate them using Python.\n",
        "\n",
        "#Exercise 1.5\n",
        "Create a function called exponential_growth that takes a population size N, a growth rate r, and a time step dt, and returns the new population size after one time step using the exponential growth model N + r*N*dt."
      ],
      "metadata": {
        "id": "jboHlr_yp1A3"
      }
    },
    {
      "cell_type": "code",
      "source": [
        "def exponential_growth(N, r, dt):\n",
        "    return N + r*N*dt\n"
      ],
      "metadata": {
        "id": "96Ot-8BGmzyL"
      },
      "execution_count": null,
      "outputs": []
    },
    {
      "cell_type": "markdown",
      "source": [
        "#Exercise 1.6\n",
        "Simulate the exponential growth of a population with initial size N0 = 100, growth rate r = 0.1, and time step dt = 0.1 for 50 time steps. Print the final population size."
      ],
      "metadata": {
        "id": "gPAwzRy3qjCx"
      }
    },
    {
      "cell_type": "code",
      "source": [
        "N0 = 100\n",
        "r = 0.1\n",
        "dt = 0.1\n",
        "t = np.arange(0, 5, dt)\n",
        "\n",
        "N = np.zeros_like(t)\n",
        "N[0] = N0\n",
        "\n",
        "for i in range(len(t)-1):\n",
        "    N[i+1] = exponential_growth(N[i], r, dt)\n",
        "\n",
        "print(N[-1])\n"
      ],
      "metadata": {
        "id": "x5vBXycVq0Bt"
      },
      "execution_count": null,
      "outputs": []
    },
    {
      "cell_type": "markdown",
      "source": [
        "#Exercise 1.7\n",
        "Create a function called logistic_growth that takes a population size N, a growth rate r, a carrying capacity K, and a time step dt, and returns the new population size after one time step using the logistic growth model N + r*N*(1 - N/K)*dt."
      ],
      "metadata": {
        "id": "tZP3E-bSq5IC"
      }
    },
    {
      "cell_type": "code",
      "source": [
        "def logistic_growth(N, r, K, dt):\n",
        "    return N + r*N*(1 - N/K)*dt\n"
      ],
      "metadata": {
        "id": "ZgV6fRR1rDbN"
      },
      "execution_count": null,
      "outputs": []
    },
    {
      "cell_type": "markdown",
      "source": [
        "#Exercise 1.8\n",
        "Simulate the logistic growth of a population with initial size N0 = 100, growth rate r = 0.2, carrying capacity K = 1000, and time step dt = 0.1 for 500 time steps. Plot the population size as a function of time using Matplotlib."
      ],
      "metadata": {
        "id": "gktXRwpyrHHY"
      }
    },
    {
      "cell_type": "code",
      "source": [
        "import numpy as np\n",
        "import matplotlib.pyplot as plt\n",
        "\n",
        "# Define parameters\n",
        "N0 = 1\n",
        "r = 0.2\n",
        "K = 1000\n",
        "dt = 0.1\n",
        "t = np.arange(0, 50, dt)\n",
        "\n",
        "# Initialize population array\n",
        "N = np.zeros_like(t)\n",
        "N[0] = N0\n",
        "\n",
        "# Simulate population growth\n",
        "for i in range(len(t)-1):\n",
        "    N[i+1] = N[i] + r*N[i]*(1 - N[i]/K)*dt\n",
        "\n",
        "# Plot results\n",
        "plt.plot(t, N)\n",
        "plt.xlabel('Time')\n",
        "plt.ylabel('Population size')\n",
        "plt.title('Logistic growth')\n",
        "plt.show()\n"
      ],
      "metadata": {
        "colab": {
          "base_uri": "https://localhost:8080/",
          "height": 295
        },
        "id": "PDavNtHprLmt",
        "outputId": "0c31fb72-8ea7-4c60-917d-7e941f576eaf"
      },
      "execution_count": null,
      "outputs": [
        {
          "output_type": "display_data",
          "data": {
            "text/plain": [
              "<Figure size 432x288 with 1 Axes>"
            ],
            "image/png": "[encoded data removed]"
          },
          "metadata": {
            "needs_background": "light"
          }
        }
      ]
    },
    {
      "cell_type": "markdown",
      "source": [
        "The **np.arange** function is used to create an array **t** with the time values for our simulation, and the initial population size is set to **N0**. We then simulate the population growth using a loop and the logistic growth function defined above. Finally, we plot the population size as a function of time using Matplotlib.\n",
        "\n",
        "The resulting plot should show an initial exponential growth phase followed by a saturation of the population size at the carrying capacity ** K** ."
      ],
      "metadata": {
        "id": "GY7aHV3kraeB"
      }
    },
    {
      "cell_type": "markdown",
      "source": [
        "\n",
        "\n",
        "> End of Day one\n",
        "\n"
      ],
      "metadata": {
        "id": "sdg3MnAErrfW"
      }
    },
    {
      "cell_type": "code",
      "source": [
        "import numpy as np\n",
        "import matplotlib.pyplot as plt\n",
        "\n",
        "N = np.arange(0, 1000, 1)\n",
        "r=2\n",
        "K=800\n",
        "f= r*N*(1-(N/K))\n",
        "plt.plot(N,f)\n",
        "plt.show()"
      ],
      "metadata": {
        "colab": {
          "base_uri": "https://localhost:8080/",
          "height": 265
        },
        "id": "idyeVBJM2jmm",
        "outputId": "5c78f4b0-2426-40f2-8a17-6e6cf407a81d"
      },
      "execution_count": null,
      "outputs": [
        {
          "output_type": "display_data",
          "data": {
            "text/plain": [
              "<Figure size 432x288 with 1 Axes>"
            ],
            "image/png": "[encoded data removed]"
          },
          "metadata": {
            "needs_background": "light"
          }
        }
      ]
    },
    {
      "cell_type": "markdown",
      "source": [
        "Interactive Model"
      ],
      "metadata": {
        "id": "MlADQeFiUiHm"
      }
    },
    {
      "cell_type": "code",
      "source": [
        "import numpy as np\n",
        "import matplotlib.pyplot as plt\n",
        "import ipywidgets as widgets\n",
        "from IPython.display import display\n",
        "\n",
        "N = np.arange(0, 1000, 1)\n",
        "r = 2\n",
        "K = 800\n",
        "\n",
        "def update_plot(r, K):\n",
        "    f = r*N*(1-(N/K))\n",
        "    plt.plot(N, f)\n",
        "    plt.title(f\"Plot for r = {r} and K = {K}\")\n",
        "    plt.xlabel(\"N\")\n",
        "    plt.ylabel(\"f\")\n",
        "    plt.xlim([0, 1000])  # set x-axis limit\n",
        "    plt.ylim([0, 2000])  # set y-axis limit\n",
        "    plt.show()\n",
        "\n",
        "r_slider = widgets.FloatSlider(min=0.1, max=10, step=0.1, value=2, description='r')\n",
        "K_slider = widgets.FloatSlider(min=100, max=1000, step=10, value=800, description='K')\n",
        "widgets.interact(update_plot, r=r_slider, K=K_slider);\n"
      ],
      "metadata": {
        "colab": {
          "base_uri": "https://localhost:8080/",
          "height": 359,
          "referenced_widgets": [
            "9854817b71d546298f7143975bb67a43",
            "67e43c2463ba4fcd8debf91b506d8450",
            "fa1f1a81c5a243c5a8cb50d032697e79",
            "5751c2f0413646a5a26987ba05a6825c",
            "e3aed370deb84a1aa12a17a920761225",
            "e75558872cf94cf78da65816014f0c01",
            "2e352bfb11084a6e9173f171f05546ce",
            "a09769afdb9f4ee0bf0c6f89b66aca68",
            "0e5b3ba354b14b6cb8f4710d4c33e596",
            "08a224a3087a40679f7bbf2325d919c8"
          ]
        },
        "id": "F4vx7O30HYtO",
        "outputId": "199eacd4-479e-4050-d579-206b2bfc5952"
      },
      "execution_count": null,
      "outputs": [
        {
          "output_type": "display_data",
          "data": {
            "text/plain": [
              "interactive(children=(FloatSlider(value=2.0, description='r', max=10.0, min=0.1), FloatSlider(value=800.0, des…"
            ],
            "application/vnd.jupyter.widget-view+json": {
              "version_major": 2,
              "version_minor": 0,
              "model_id": "9854817b71d546298f7143975bb67a43"
            }
          },
          "metadata": {}
        }
      ]
    },
    {
      "cell_type": "code",
      "source": [],
      "metadata": {
        "id": "k-ThSlcgbif8"
      },
      "execution_count": null,
      "outputs": []
    }
  ]
}